{
 "cells": [
  {
   "cell_type": "markdown",
   "id": "efb6e97d",
   "metadata": {},
   "source": [
    "#### 1. Suppose you are given a line of text as a plaintext, find out the corresponding Caesar Cipher (i.e. character three to the right modulo 26). Then perform the reverse operation to get original plaintext."
   ]
  },
  {
   "cell_type": "markdown",
   "id": "4a9485a1",
   "metadata": {},
   "source": [
    "### Function for Encryption"
   ]
  },
  {
   "cell_type": "code",
   "execution_count": 24,
   "id": "e319f45c",
   "metadata": {},
   "outputs": [],
   "source": [
    "def caeser_encrypt(plaintext, shift = 3):\n",
    "    ciphertext = \"\"\n",
    "    for char in plaintext:\n",
    "        if char.isalpha():\n",
    "            offset = 65 if char.isupper() else 97\n",
    "            cipher_char = chr((ord(char) - offset + shift) % 26 + offset)\n",
    "            ciphertext += cipher_char\n",
    "        else:\n",
    "            ciphertext += char\n",
    "    return ciphertext"
   ]
  },
  {
   "cell_type": "markdown",
   "id": "de7b4bb1",
   "metadata": {},
   "source": [
    "### Function for Decryption "
   ]
  },
  {
   "cell_type": "code",
   "execution_count": 25,
   "id": "3a4edc45",
   "metadata": {},
   "outputs": [],
   "source": [
    "def caeser_decrypt(ciphertext, shift = 3):\n",
    "    return cipher_encrypt(ciphertext, -shift)"
   ]
  },
  {
   "cell_type": "markdown",
   "id": "9da366ae",
   "metadata": {},
   "source": [
    "### Print"
   ]
  },
  {
   "cell_type": "code",
   "execution_count": 26,
   "id": "0991a780",
   "metadata": {},
   "outputs": [
    {
     "name": "stdout",
     "output_type": "stream",
     "text": [
      "Plaintext : bangladesh\n",
      "Ciphertext: edqjodghvk\n",
      "Decrypted : bangladesh\n"
     ]
    }
   ],
   "source": [
    "plaintext = input(\"Enter plaintext: \")\n",
    "print(\"Plaintext :\", plaintext)\n",
    "ciphertext = caeser_encrypt(plaintext)\n",
    "print(\"Ciphertext:\", ciphertext)\n",
    "decrypted = caeser_decrypt(ciphertext)\n",
    "print(\"Decrypted :\", decrypted)"
   ]
  }
 ],
 "metadata": {
  "language_info": {
   "name": "python"
  }
 },
 "nbformat": 4,
 "nbformat_minor": 5
}
